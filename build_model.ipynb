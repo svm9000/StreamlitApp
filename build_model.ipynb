{
 "cells": [
  {
   "cell_type": "markdown",
   "metadata": {},
   "source": [
    "### Import packages and required name dataset"
   ]
  },
  {
   "cell_type": "code",
   "execution_count": 57,
   "metadata": {},
   "outputs": [
    {
     "name": "stdout",
     "output_type": "stream",
     "text": [
      "df.size is 0.18 MB\n",
      "df.dtypes are name      object\n",
      "gender    object\n",
      "dtype: object\n"
     ]
    }
   ],
   "source": [
    "import pandas as pd\n",
    "import numpy as np\n",
    "from matplotlib import pyplot as plt\n",
    "from sklearn.feature_extraction.text import CountVectorizer \n",
    "from sklearn.feature_extraction import DictVectorizer \n",
    "from sklearn.feature_extraction.text import TfidfTransformer\n",
    "from sklearn.model_selection import train_test_split\n",
    "#creating a pipeline\n",
    "from sklearn.pipeline import Pipeline\n",
    "from sklearn.naive_bayes import MultinomialNB\n",
    "\n",
    "#read data frame\n",
    "df = pd.read_csv('gender_dataset.csv')\n",
    "\n",
    "#check the types\n",
    "print(f\"df.size is {np.round(df.size/1024**2,2)} MB\")\n",
    "print(f\"df.dtypes are {df.dtypes}\")\n"
   ]
  },
  {
   "cell_type": "markdown",
   "metadata": {},
   "source": [
    "### Data quality checks"
   ]
  },
  {
   "cell_type": "code",
   "execution_count": 183,
   "metadata": {},
   "outputs": [
    {
     "data": {
      "text/plain": [
       "name      0\n",
       "gender    0\n",
       "dtype: int64"
      ]
     },
     "execution_count": 183,
     "metadata": {},
     "output_type": "execute_result"
    }
   ],
   "source": [
    "#check for null values\n",
    "df.isna().sum()\n",
    "#df.isnull()"
   ]
  },
  {
   "cell_type": "markdown",
   "metadata": {},
   "source": [
    "### Plot of gender distribution"
   ]
  },
  {
   "cell_type": "code",
   "execution_count": 185,
   "metadata": {},
   "outputs": [
    {
     "name": "stdout",
     "output_type": "stream",
     "text": [
      "63.8%\n",
      "(60600)\n",
      "36.2%\n",
      "(34425)\n"
     ]
    },
    {
     "data": {
      "image/png": "[encoded data removed]",
      "text/plain": [
       "<Figure size 720x504 with 1 Axes>"
      ]
     },
     "metadata": {},
     "output_type": "display_data"
    }
   ],
   "source": [
    " \n",
    "# Creating plot\n",
    "df_final_names= df.copy(deep=True)\n",
    "#df_final_names['sex'].replace({'F':0,'M':1},inplace=True)\n",
    "\n",
    "fig = plt.figure(figsize =(10, 7))\n",
    "plot_df = df_final_names.groupby(['gender']).count().reset_index()\n",
    "total = plot_df['name'].sum()\n",
    "\n",
    "\n",
    "def my_fmt(x):\n",
    "    print(\"{:.1f}%\\n({:.0f})\".format(x, total*x/100))\n",
    "    return '{:.1f}%\\n({:.0f})'.format(x, total*x/100)\n",
    "   \n",
    "\n",
    "plt.pie(plot_df.name, labels = plot_df.gender,autopct=my_fmt, shadow=True)\n",
    " \n",
    "# show plot (0 is female and 1 is male)\n",
    "plt.show()\n",
    "\n"
   ]
  },
  {
   "cell_type": "markdown",
   "metadata": {},
   "source": [
    "### Create a train and test sample"
   ]
  },
  {
   "cell_type": "code",
   "execution_count": 186,
   "metadata": {},
   "outputs": [],
   "source": [
    "\n",
    "#x =feature  and y=target\n",
    "X = df_final_names['name'].astype(str)\n",
    "Y = df_final_names['gender'].astype(str)\n",
    "\n",
    "cv = CountVectorizer()\n",
    "df_final_names.gender.replace({'F':0,'M':1},inplace=True)\n",
    "#Xfeatures =df_final_names['name']\n",
    "#X_raw = cv.fit_transform(Xfeatures)\n",
    "Y = df_final_names.gender\n",
    "\n",
    "#X_train, X_test, y_train, y_test = train_test_split(X_raw, Y,test_size=0.2)\n",
    "X_train, X_test, y_train, y_test = train_test_split(X, Y,test_size=0.2)\n",
    "\n"
   ]
  },
  {
   "cell_type": "markdown",
   "metadata": {},
   "source": [
    "### Create a pipeline"
   ]
  },
  {
   "cell_type": "code",
   "execution_count": 187,
   "metadata": {},
   "outputs": [],
   "source": [
    "\n",
    "#Naive Bayes algorithm is only used for textual data classification and cannot be used to predict numeric values.\n",
    "text_clf = Pipeline([('vect', CountVectorizer(ngram_range=(1, 1)))\n",
    "                   , ('tfidf', TfidfTransformer(norm='l2',sublinear_tf=True ,use_idf=False))\n",
    "                   , ('clf', MultinomialNB(alpha=0.1))])\n",
    "\n",
    "#model training\n",
    "\n",
    "#clf = MultinomialNB()\n",
    "#text_clf = clf.fit(X_train,y_train)\n",
    "#clf.score(X_test,y_test)\n",
    "text_clf = text_clf.fit(X_train, y_train)\n",
    "\n"
   ]
  },
  {
   "cell_type": "markdown",
   "metadata": {},
   "source": [
    "### Test accuracy "
   ]
  },
  {
   "cell_type": "code",
   "execution_count": 188,
   "metadata": {},
   "outputs": [
    {
     "data": {
      "text/plain": [
       "0.6419889502762431"
      ]
     },
     "execution_count": 188,
     "metadata": {},
     "output_type": "execute_result"
    }
   ],
   "source": [
    "\n",
    "from sklearn.metrics import accuracy_score\n",
    "predicted = text_clf.predict(X_test)\n",
    "#print(predicted)\n",
    "accuracy_score(y_test, predicted)\n",
    "\n"
   ]
  },
  {
   "cell_type": "markdown",
   "metadata": {},
   "source": [
    "### Confusion matrix"
   ]
  },
  {
   "cell_type": "code",
   "execution_count": 189,
   "metadata": {},
   "outputs": [
    {
     "name": "stdout",
     "output_type": "stream",
     "text": [
      "              precision    recall  f1-score   support\n",
      "\n",
      "           0       0.64      1.00      0.78     12201\n",
      "           1       0.00      0.00      0.00      6804\n",
      "\n",
      "    accuracy                           0.64     19005\n",
      "   macro avg       0.32      0.50      0.39     19005\n",
      "weighted avg       0.41      0.64      0.50     19005\n",
      "\n"
     ]
    },
    {
     "name": "stderr",
     "output_type": "stream",
     "text": [
      "C:\\Users\\MrOffice\\Documents\\Work\\Training\\StreamlitDocker\\streamlit_app\\lib\\site-packages\\sklearn\\metrics\\_classification.py:1318: UndefinedMetricWarning: Precision and F-score are ill-defined and being set to 0.0 in labels with no predicted samples. Use `zero_division` parameter to control this behavior.\n",
      "  _warn_prf(average, modifier, msg_start, len(result))\n",
      "C:\\Users\\MrOffice\\Documents\\Work\\Training\\StreamlitDocker\\streamlit_app\\lib\\site-packages\\sklearn\\metrics\\_classification.py:1318: UndefinedMetricWarning: Precision and F-score are ill-defined and being set to 0.0 in labels with no predicted samples. Use `zero_division` parameter to control this behavior.\n",
      "  _warn_prf(average, modifier, msg_start, len(result))\n",
      "C:\\Users\\MrOffice\\Documents\\Work\\Training\\StreamlitDocker\\streamlit_app\\lib\\site-packages\\sklearn\\metrics\\_classification.py:1318: UndefinedMetricWarning: Precision and F-score are ill-defined and being set to 0.0 in labels with no predicted samples. Use `zero_division` parameter to control this behavior.\n",
      "  _warn_prf(average, modifier, msg_start, len(result))\n"
     ]
    }
   ],
   "source": [
    "\n",
    "#Confusion Matrix\n",
    "from sklearn.metrics import confusion_matrix\n",
    "from sklearn.metrics import classification_report \n",
    "\n",
    "results = confusion_matrix(y_test, predicted)\n",
    "print(classification_report(y_test, predicted) )\n",
    "\n"
   ]
  },
  {
   "cell_type": "code",
   "execution_count": 190,
   "metadata": {},
   "outputs": [],
   "source": [
    "from sklearn.metrics import roc_curve\n",
    "from sklearn.metrics import auc\n",
    "\n",
    "\n",
    "# Compute fpr, tpr, thresholds and roc auc\n",
    "fpr, tpr, thresholds = roc_curve(y_test, predicted)\n",
    "roc_auc = auc(fpr, tpr)\n",
    "\n",
    "# Plot ROC curve\n",
    "#plt.plot(fpr, tpr, label='ROC curve (area = %0.3f)' % roc_auc)\n",
    "#plt.plot([0, 1], [0, 1], 'k--')  # random predictions curve\n",
    "#plt.xlim([0.0, 1.0])\n",
    "#plt.ylim([0.0, 1.0])\n",
    "#plt.xlabel('False Positive Rate or (1 - Specifity)')\n",
    "#plt.ylabel('True Positive Rate or (Sensitivity)')\n",
    "#plt.title('Receiver Operating Characteristic')\n",
    "#plt.legend(loc=\"lower right\")"
   ]
  },
  {
   "cell_type": "markdown",
   "metadata": {},
   "source": [
    "### Save model "
   ]
  },
  {
   "cell_type": "code",
   "execution_count": 191,
   "metadata": {},
   "outputs": [
    {
     "data": {
      "text/plain": [
       "['Model/Predict_Gender.pkl']"
      ]
     },
     "execution_count": 191,
     "metadata": {},
     "output_type": "execute_result"
    }
   ],
   "source": [
    "import joblib\n",
    "joblib.dump(text_clf, \"Model/Predict_Gender.pkl\")\n"
   ]
  },
  {
   "cell_type": "markdown",
   "metadata": {},
   "source": [
    "### Predict using model "
   ]
  },
  {
   "cell_type": "code",
   "execution_count": 192,
   "metadata": {},
   "outputs": [
    {
     "name": "stdout",
     "output_type": "stream",
     "text": [
      "Enter name :\n",
      "Jane\n",
      "Predicted gender = 0\n"
     ]
    }
   ],
   "source": [
    "model=joblib.load('model/Predict_Gender.pkl')\n",
    "\n",
    "print('Enter name :')\n",
    "name=input()\n",
    "print(name)\n",
    "\n",
    "\n",
    "print(f\"Predicted gender = {model.predict((name,))[0]}\")\n",
    "\n",
    "\n"
   ]
  }
 ],
 "metadata": {
  "interpreter": {
   "hash": "6a1b4d395d9a551aeae6149c50b5af479d3542838a835fe05798a357bd08cc79"
  },
  "kernelspec": {
   "display_name": "Python 3.8.5 64-bit (system)",
   "language": "python",
   "name": "python3"
  },
  "language_info": {
   "codemirror_mode": {
    "name": "ipython",
    "version": 3
   },
   "file_extension": ".py",
   "mimetype": "text/x-python",
   "name": "python",
   "nbconvert_exporter": "python",
   "pygments_lexer": "ipython3",
   "version": "3.8.5"
  },
  "orig_nbformat": 4
 },
 "nbformat": 4,
 "nbformat_minor": 2
}
